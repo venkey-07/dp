{
 "cells": [
  {
   "cell_type": "code",
   "execution_count": 3,
   "id": "43b7d622-9311-4ece-a5be-c8fef67bb7c4",
   "metadata": {},
   "outputs": [
    {
     "name": "stdout",
     "output_type": "stream",
     "text": [
      "['Nitrogen(N)', 'Phosphorus(P)', 'Potassium(K)']\n",
      "3\n"
     ]
    }
   ],
   "source": [
    "import pandas as pd\n",
    "import numpy as np\n",
    "import os\n",
    "from tensorflow.keras.preprocessing.image import ImageDataGenerator\n",
    "import tensorflow as tf\n",
    "from keras.models import Model, Sequential, load_model\n",
    "from keras.layers import Dense, Dropout, Flatten, Conv2D, MaxPool2D, BatchNormalization, GlobalAveragePooling2D,Activation,Input\n",
    "from tensorflow.keras.optimizers import Adam\n",
    "import matplotlib.pyplot as plt\n",
    "import seaborn as sns\n",
    "import cv2\n",
    "data_dir=r\"dataset/rice_plant_lacks_nutrients\"\n",
    "rice=[]\n",
    "for file in os.listdir(data_dir):\n",
    "    rice+=[file]\n",
    "print(rice)\n",
    "print(len(rice))"
   ]
  },
  {
   "cell_type": "code",
   "execution_count": 4,
   "id": "cad3e219-0b3e-4ec0-91f9-264acdf536c8",
   "metadata": {},
   "outputs": [
    {
     "name": "stdout",
     "output_type": "stream",
     "text": [
      "Found 811 images belonging to 3 classes.\n",
      "Found 345 images belonging to 3 classes.\n"
     ]
    }
   ],
   "source": [
    "img_height,img_width=224,224\n",
    "batch_size=20\n",
    "train_datagen = ImageDataGenerator(rescale=1./255,validation_split=0.3)\n",
    "train_generator = train_datagen.flow_from_directory(data_dir,\n",
    "                                                target_size=(img_height,img_width),\n",
    "                                                batch_size=batch_size,\n",
    "                                                class_mode='categorical',\n",
    "                                                subset='training')\n",
    "test_generator = train_datagen.flow_from_directory(data_dir,\n",
    "                                                target_size=(img_height,img_width),\n",
    "                                                batch_size=batch_size,\n",
    "                                                class_mode='categorical',\n",
    "                                                subset='validation')"
   ]
  },
  {
   "cell_type": "code",
   "execution_count": 5,
   "id": "8e50292f-482b-4072-b79a-61ab560f5c75",
   "metadata": {},
   "outputs": [
    {
     "name": "stderr",
     "output_type": "stream",
     "text": [
      "C:\\Users\\yagne\\anaconda3\\Lib\\site-packages\\keras\\src\\layers\\convolutional\\base_conv.py:107: UserWarning: Do not pass an `input_shape`/`input_dim` argument to a layer. When using Sequential models, prefer using an `Input(shape)` object as the first layer in the model instead.\n",
      "  super().__init__(activity_regularizer=activity_regularizer, **kwargs)\n"
     ]
    },
    {
     "data": {
      "text/html": [
       "<pre style=\"white-space:pre;overflow-x:auto;line-height:normal;font-family:Menlo,'DejaVu Sans Mono',consolas,'Courier New',monospace\"><span style=\"font-weight: bold\">Model: \"sequential\"</span>\n",
       "</pre>\n"
      ],
      "text/plain": [
       "\u001b[1mModel: \"sequential\"\u001b[0m\n"
      ]
     },
     "metadata": {},
     "output_type": "display_data"
    },
    {
     "data": {
      "text/html": [
       "<pre style=\"white-space:pre;overflow-x:auto;line-height:normal;font-family:Menlo,'DejaVu Sans Mono',consolas,'Courier New',monospace\">┏━━━━━━━━━━━━━━━━━━━━━━━━━━━━━━━━━━━━━━┳━━━━━━━━━━━━━━━━━━━━━━━━━━━━━┳━━━━━━━━━━━━━━━━━┓\n",
       "┃<span style=\"font-weight: bold\"> Layer (type)                         </span>┃<span style=\"font-weight: bold\"> Output Shape                </span>┃<span style=\"font-weight: bold\">         Param # </span>┃\n",
       "┡━━━━━━━━━━━━━━━━━━━━━━━━━━━━━━━━━━━━━━╇━━━━━━━━━━━━━━━━━━━━━━━━━━━━━╇━━━━━━━━━━━━━━━━━┩\n",
       "│ conv2d (<span style=\"color: #0087ff; text-decoration-color: #0087ff\">Conv2D</span>)                      │ (<span style=\"color: #00d7ff; text-decoration-color: #00d7ff\">None</span>, <span style=\"color: #00af00; text-decoration-color: #00af00\">224</span>, <span style=\"color: #00af00; text-decoration-color: #00af00\">224</span>, <span style=\"color: #00af00; text-decoration-color: #00af00\">32</span>)        │             <span style=\"color: #00af00; text-decoration-color: #00af00\">896</span> │\n",
       "├──────────────────────────────────────┼─────────────────────────────┼─────────────────┤\n",
       "│ max_pooling2d (<span style=\"color: #0087ff; text-decoration-color: #0087ff\">MaxPooling2D</span>)         │ (<span style=\"color: #00d7ff; text-decoration-color: #00d7ff\">None</span>, <span style=\"color: #00af00; text-decoration-color: #00af00\">112</span>, <span style=\"color: #00af00; text-decoration-color: #00af00\">112</span>, <span style=\"color: #00af00; text-decoration-color: #00af00\">32</span>)        │               <span style=\"color: #00af00; text-decoration-color: #00af00\">0</span> │\n",
       "├──────────────────────────────────────┼─────────────────────────────┼─────────────────┤\n",
       "│ conv2d_1 (<span style=\"color: #0087ff; text-decoration-color: #0087ff\">Conv2D</span>)                    │ (<span style=\"color: #00d7ff; text-decoration-color: #00d7ff\">None</span>, <span style=\"color: #00af00; text-decoration-color: #00af00\">112</span>, <span style=\"color: #00af00; text-decoration-color: #00af00\">112</span>, <span style=\"color: #00af00; text-decoration-color: #00af00\">64</span>)        │          <span style=\"color: #00af00; text-decoration-color: #00af00\">18,496</span> │\n",
       "├──────────────────────────────────────┼─────────────────────────────┼─────────────────┤\n",
       "│ max_pooling2d_1 (<span style=\"color: #0087ff; text-decoration-color: #0087ff\">MaxPooling2D</span>)       │ (<span style=\"color: #00d7ff; text-decoration-color: #00d7ff\">None</span>, <span style=\"color: #00af00; text-decoration-color: #00af00\">56</span>, <span style=\"color: #00af00; text-decoration-color: #00af00\">56</span>, <span style=\"color: #00af00; text-decoration-color: #00af00\">64</span>)          │               <span style=\"color: #00af00; text-decoration-color: #00af00\">0</span> │\n",
       "├──────────────────────────────────────┼─────────────────────────────┼─────────────────┤\n",
       "│ conv2d_2 (<span style=\"color: #0087ff; text-decoration-color: #0087ff\">Conv2D</span>)                    │ (<span style=\"color: #00d7ff; text-decoration-color: #00d7ff\">None</span>, <span style=\"color: #00af00; text-decoration-color: #00af00\">56</span>, <span style=\"color: #00af00; text-decoration-color: #00af00\">56</span>, <span style=\"color: #00af00; text-decoration-color: #00af00\">96</span>)          │          <span style=\"color: #00af00; text-decoration-color: #00af00\">55,392</span> │\n",
       "├──────────────────────────────────────┼─────────────────────────────┼─────────────────┤\n",
       "│ max_pooling2d_2 (<span style=\"color: #0087ff; text-decoration-color: #0087ff\">MaxPooling2D</span>)       │ (<span style=\"color: #00d7ff; text-decoration-color: #00d7ff\">None</span>, <span style=\"color: #00af00; text-decoration-color: #00af00\">28</span>, <span style=\"color: #00af00; text-decoration-color: #00af00\">28</span>, <span style=\"color: #00af00; text-decoration-color: #00af00\">96</span>)          │               <span style=\"color: #00af00; text-decoration-color: #00af00\">0</span> │\n",
       "├──────────────────────────────────────┼─────────────────────────────┼─────────────────┤\n",
       "│ conv2d_3 (<span style=\"color: #0087ff; text-decoration-color: #0087ff\">Conv2D</span>)                    │ (<span style=\"color: #00d7ff; text-decoration-color: #00d7ff\">None</span>, <span style=\"color: #00af00; text-decoration-color: #00af00\">28</span>, <span style=\"color: #00af00; text-decoration-color: #00af00\">28</span>, <span style=\"color: #00af00; text-decoration-color: #00af00\">96</span>)          │          <span style=\"color: #00af00; text-decoration-color: #00af00\">83,040</span> │\n",
       "├──────────────────────────────────────┼─────────────────────────────┼─────────────────┤\n",
       "│ max_pooling2d_3 (<span style=\"color: #0087ff; text-decoration-color: #0087ff\">MaxPooling2D</span>)       │ (<span style=\"color: #00d7ff; text-decoration-color: #00d7ff\">None</span>, <span style=\"color: #00af00; text-decoration-color: #00af00\">14</span>, <span style=\"color: #00af00; text-decoration-color: #00af00\">14</span>, <span style=\"color: #00af00; text-decoration-color: #00af00\">96</span>)          │               <span style=\"color: #00af00; text-decoration-color: #00af00\">0</span> │\n",
       "├──────────────────────────────────────┼─────────────────────────────┼─────────────────┤\n",
       "│ flatten (<span style=\"color: #0087ff; text-decoration-color: #0087ff\">Flatten</span>)                    │ (<span style=\"color: #00d7ff; text-decoration-color: #00d7ff\">None</span>, <span style=\"color: #00af00; text-decoration-color: #00af00\">18816</span>)               │               <span style=\"color: #00af00; text-decoration-color: #00af00\">0</span> │\n",
       "├──────────────────────────────────────┼─────────────────────────────┼─────────────────┤\n",
       "│ dense (<span style=\"color: #0087ff; text-decoration-color: #0087ff\">Dense</span>)                        │ (<span style=\"color: #00d7ff; text-decoration-color: #00d7ff\">None</span>, <span style=\"color: #00af00; text-decoration-color: #00af00\">512</span>)                 │       <span style=\"color: #00af00; text-decoration-color: #00af00\">9,634,304</span> │\n",
       "├──────────────────────────────────────┼─────────────────────────────┼─────────────────┤\n",
       "│ activation (<span style=\"color: #0087ff; text-decoration-color: #0087ff\">Activation</span>)              │ (<span style=\"color: #00d7ff; text-decoration-color: #00d7ff\">None</span>, <span style=\"color: #00af00; text-decoration-color: #00af00\">512</span>)                 │               <span style=\"color: #00af00; text-decoration-color: #00af00\">0</span> │\n",
       "├──────────────────────────────────────┼─────────────────────────────┼─────────────────┤\n",
       "│ dense_1 (<span style=\"color: #0087ff; text-decoration-color: #0087ff\">Dense</span>)                      │ (<span style=\"color: #00d7ff; text-decoration-color: #00d7ff\">None</span>, <span style=\"color: #00af00; text-decoration-color: #00af00\">3</span>)                   │           <span style=\"color: #00af00; text-decoration-color: #00af00\">1,539</span> │\n",
       "└──────────────────────────────────────┴─────────────────────────────┴─────────────────┘\n",
       "</pre>\n"
      ],
      "text/plain": [
       "┏━━━━━━━━━━━━━━━━━━━━━━━━━━━━━━━━━━━━━━┳━━━━━━━━━━━━━━━━━━━━━━━━━━━━━┳━━━━━━━━━━━━━━━━━┓\n",
       "┃\u001b[1m \u001b[0m\u001b[1mLayer (type)                        \u001b[0m\u001b[1m \u001b[0m┃\u001b[1m \u001b[0m\u001b[1mOutput Shape               \u001b[0m\u001b[1m \u001b[0m┃\u001b[1m \u001b[0m\u001b[1m        Param #\u001b[0m\u001b[1m \u001b[0m┃\n",
       "┡━━━━━━━━━━━━━━━━━━━━━━━━━━━━━━━━━━━━━━╇━━━━━━━━━━━━━━━━━━━━━━━━━━━━━╇━━━━━━━━━━━━━━━━━┩\n",
       "│ conv2d (\u001b[38;5;33mConv2D\u001b[0m)                      │ (\u001b[38;5;45mNone\u001b[0m, \u001b[38;5;34m224\u001b[0m, \u001b[38;5;34m224\u001b[0m, \u001b[38;5;34m32\u001b[0m)        │             \u001b[38;5;34m896\u001b[0m │\n",
       "├──────────────────────────────────────┼─────────────────────────────┼─────────────────┤\n",
       "│ max_pooling2d (\u001b[38;5;33mMaxPooling2D\u001b[0m)         │ (\u001b[38;5;45mNone\u001b[0m, \u001b[38;5;34m112\u001b[0m, \u001b[38;5;34m112\u001b[0m, \u001b[38;5;34m32\u001b[0m)        │               \u001b[38;5;34m0\u001b[0m │\n",
       "├──────────────────────────────────────┼─────────────────────────────┼─────────────────┤\n",
       "│ conv2d_1 (\u001b[38;5;33mConv2D\u001b[0m)                    │ (\u001b[38;5;45mNone\u001b[0m, \u001b[38;5;34m112\u001b[0m, \u001b[38;5;34m112\u001b[0m, \u001b[38;5;34m64\u001b[0m)        │          \u001b[38;5;34m18,496\u001b[0m │\n",
       "├──────────────────────────────────────┼─────────────────────────────┼─────────────────┤\n",
       "│ max_pooling2d_1 (\u001b[38;5;33mMaxPooling2D\u001b[0m)       │ (\u001b[38;5;45mNone\u001b[0m, \u001b[38;5;34m56\u001b[0m, \u001b[38;5;34m56\u001b[0m, \u001b[38;5;34m64\u001b[0m)          │               \u001b[38;5;34m0\u001b[0m │\n",
       "├──────────────────────────────────────┼─────────────────────────────┼─────────────────┤\n",
       "│ conv2d_2 (\u001b[38;5;33mConv2D\u001b[0m)                    │ (\u001b[38;5;45mNone\u001b[0m, \u001b[38;5;34m56\u001b[0m, \u001b[38;5;34m56\u001b[0m, \u001b[38;5;34m96\u001b[0m)          │          \u001b[38;5;34m55,392\u001b[0m │\n",
       "├──────────────────────────────────────┼─────────────────────────────┼─────────────────┤\n",
       "│ max_pooling2d_2 (\u001b[38;5;33mMaxPooling2D\u001b[0m)       │ (\u001b[38;5;45mNone\u001b[0m, \u001b[38;5;34m28\u001b[0m, \u001b[38;5;34m28\u001b[0m, \u001b[38;5;34m96\u001b[0m)          │               \u001b[38;5;34m0\u001b[0m │\n",
       "├──────────────────────────────────────┼─────────────────────────────┼─────────────────┤\n",
       "│ conv2d_3 (\u001b[38;5;33mConv2D\u001b[0m)                    │ (\u001b[38;5;45mNone\u001b[0m, \u001b[38;5;34m28\u001b[0m, \u001b[38;5;34m28\u001b[0m, \u001b[38;5;34m96\u001b[0m)          │          \u001b[38;5;34m83,040\u001b[0m │\n",
       "├──────────────────────────────────────┼─────────────────────────────┼─────────────────┤\n",
       "│ max_pooling2d_3 (\u001b[38;5;33mMaxPooling2D\u001b[0m)       │ (\u001b[38;5;45mNone\u001b[0m, \u001b[38;5;34m14\u001b[0m, \u001b[38;5;34m14\u001b[0m, \u001b[38;5;34m96\u001b[0m)          │               \u001b[38;5;34m0\u001b[0m │\n",
       "├──────────────────────────────────────┼─────────────────────────────┼─────────────────┤\n",
       "│ flatten (\u001b[38;5;33mFlatten\u001b[0m)                    │ (\u001b[38;5;45mNone\u001b[0m, \u001b[38;5;34m18816\u001b[0m)               │               \u001b[38;5;34m0\u001b[0m │\n",
       "├──────────────────────────────────────┼─────────────────────────────┼─────────────────┤\n",
       "│ dense (\u001b[38;5;33mDense\u001b[0m)                        │ (\u001b[38;5;45mNone\u001b[0m, \u001b[38;5;34m512\u001b[0m)                 │       \u001b[38;5;34m9,634,304\u001b[0m │\n",
       "├──────────────────────────────────────┼─────────────────────────────┼─────────────────┤\n",
       "│ activation (\u001b[38;5;33mActivation\u001b[0m)              │ (\u001b[38;5;45mNone\u001b[0m, \u001b[38;5;34m512\u001b[0m)                 │               \u001b[38;5;34m0\u001b[0m │\n",
       "├──────────────────────────────────────┼─────────────────────────────┼─────────────────┤\n",
       "│ dense_1 (\u001b[38;5;33mDense\u001b[0m)                      │ (\u001b[38;5;45mNone\u001b[0m, \u001b[38;5;34m3\u001b[0m)                   │           \u001b[38;5;34m1,539\u001b[0m │\n",
       "└──────────────────────────────────────┴─────────────────────────────┴─────────────────┘\n"
      ]
     },
     "metadata": {},
     "output_type": "display_data"
    },
    {
     "data": {
      "text/html": [
       "<pre style=\"white-space:pre;overflow-x:auto;line-height:normal;font-family:Menlo,'DejaVu Sans Mono',consolas,'Courier New',monospace\"><span style=\"font-weight: bold\"> Total params: </span><span style=\"color: #00af00; text-decoration-color: #00af00\">9,793,667</span> (37.36 MB)\n",
       "</pre>\n"
      ],
      "text/plain": [
       "\u001b[1m Total params: \u001b[0m\u001b[38;5;34m9,793,667\u001b[0m (37.36 MB)\n"
      ]
     },
     "metadata": {},
     "output_type": "display_data"
    },
    {
     "data": {
      "text/html": [
       "<pre style=\"white-space:pre;overflow-x:auto;line-height:normal;font-family:Menlo,'DejaVu Sans Mono',consolas,'Courier New',monospace\"><span style=\"font-weight: bold\"> Trainable params: </span><span style=\"color: #00af00; text-decoration-color: #00af00\">9,793,667</span> (37.36 MB)\n",
       "</pre>\n"
      ],
      "text/plain": [
       "\u001b[1m Trainable params: \u001b[0m\u001b[38;5;34m9,793,667\u001b[0m (37.36 MB)\n"
      ]
     },
     "metadata": {},
     "output_type": "display_data"
    },
    {
     "data": {
      "text/html": [
       "<pre style=\"white-space:pre;overflow-x:auto;line-height:normal;font-family:Menlo,'DejaVu Sans Mono',consolas,'Courier New',monospace\"><span style=\"font-weight: bold\"> Non-trainable params: </span><span style=\"color: #00af00; text-decoration-color: #00af00\">0</span> (0.00 B)\n",
       "</pre>\n"
      ],
      "text/plain": [
       "\u001b[1m Non-trainable params: \u001b[0m\u001b[38;5;34m0\u001b[0m (0.00 B)\n"
      ]
     },
     "metadata": {},
     "output_type": "display_data"
    }
   ],
   "source": [
    "model = Sequential()\n",
    "model.add(Conv2D(filters=32, kernel_size=(3,3), padding='Same', activation='relu', input_shape=(img_height,img_width, 3)))\n",
    "model.add(MaxPool2D(pool_size=(2,2)))\n",
    "\n",
    "model.add(Conv2D(filters=64, kernel_size=(3,3), padding='Same', activation='relu'))\n",
    "model.add(MaxPool2D(pool_size=(2,2), strides=(2,2)))\n",
    "model.add(Conv2D(filters=96, kernel_size=(3,3), padding='Same', activation='relu'))\n",
    "model.add(MaxPool2D(pool_size=(2,2), strides=(2,2)))\n",
    "\n",
    "model.add(Conv2D(filters=96, kernel_size=(3,3), padding='Same', activation='relu'))\n",
    "model.add(MaxPool2D(pool_size=(2,2), strides=(2,2)))\n",
    "\n",
    "model.add(Flatten())\n",
    "model.add(Dense(512))\n",
    "model.add(Activation('relu'))\n",
    "model.add(Dense(3, activation=\"softmax\"))\n",
    "\n",
    "model.summary()"
   ]
  },
  {
   "cell_type": "code",
   "execution_count": 6,
   "id": "681a9b67-523e-49f5-a1c1-2117202c0815",
   "metadata": {},
   "outputs": [
    {
     "name": "stderr",
     "output_type": "stream",
     "text": [
      "C:\\Users\\yagne\\anaconda3\\Lib\\site-packages\\keras\\src\\trainers\\data_adapters\\py_dataset_adapter.py:121: UserWarning: Your `PyDataset` class should call `super().__init__(**kwargs)` in its constructor. `**kwargs` can include `workers`, `use_multiprocessing`, `max_queue_size`. Do not pass these arguments to `fit()`, as they will be ignored.\n",
      "  self._warn_if_super_not_called()\n"
     ]
    },
    {
     "name": "stdout",
     "output_type": "stream",
     "text": [
      "Epoch 1/20\n",
      "\u001b[1m41/41\u001b[0m \u001b[32m━━━━━━━━━━━━━━━━━━━━\u001b[0m\u001b[37m\u001b[0m \u001b[1m47s\u001b[0m 1s/step - accuracy: 0.3190 - loss: 1.2927 - val_accuracy: 0.5768 - val_loss: 0.9863\n",
      "Epoch 2/20\n",
      "\u001b[1m41/41\u001b[0m \u001b[32m━━━━━━━━━━━━━━━━━━━━\u001b[0m\u001b[37m\u001b[0m \u001b[1m42s\u001b[0m 1s/step - accuracy: 0.6681 - loss: 0.7550 - val_accuracy: 0.6957 - val_loss: 0.7937\n",
      "Epoch 3/20\n",
      "\u001b[1m41/41\u001b[0m \u001b[32m━━━━━━━━━━━━━━━━━━━━\u001b[0m\u001b[37m\u001b[0m \u001b[1m44s\u001b[0m 1s/step - accuracy: 0.8027 - loss: 0.5130 - val_accuracy: 0.6899 - val_loss: 0.7421\n",
      "Epoch 4/20\n",
      "\u001b[1m41/41\u001b[0m \u001b[32m━━━━━━━━━━━━━━━━━━━━\u001b[0m\u001b[37m\u001b[0m \u001b[1m43s\u001b[0m 1s/step - accuracy: 0.7782 - loss: 0.5523 - val_accuracy: 0.6609 - val_loss: 0.8997\n",
      "Epoch 5/20\n",
      "\u001b[1m41/41\u001b[0m \u001b[32m━━━━━━━━━━━━━━━━━━━━\u001b[0m\u001b[37m\u001b[0m \u001b[1m45s\u001b[0m 1s/step - accuracy: 0.8521 - loss: 0.3660 - val_accuracy: 0.7159 - val_loss: 0.8028\n",
      "Epoch 6/20\n",
      "\u001b[1m41/41\u001b[0m \u001b[32m━━━━━━━━━━━━━━━━━━━━\u001b[0m\u001b[37m\u001b[0m \u001b[1m44s\u001b[0m 1s/step - accuracy: 0.8473 - loss: 0.4425 - val_accuracy: 0.7072 - val_loss: 0.9271\n",
      "Epoch 7/20\n",
      "\u001b[1m41/41\u001b[0m \u001b[32m━━━━━━━━━━━━━━━━━━━━\u001b[0m\u001b[37m\u001b[0m \u001b[1m40s\u001b[0m 974ms/step - accuracy: 0.8420 - loss: 0.3566 - val_accuracy: 0.6725 - val_loss: 1.0780\n",
      "Epoch 8/20\n",
      "\u001b[1m41/41\u001b[0m \u001b[32m━━━━━━━━━━━━━━━━━━━━\u001b[0m\u001b[37m\u001b[0m \u001b[1m40s\u001b[0m 982ms/step - accuracy: 0.8803 - loss: 0.3272 - val_accuracy: 0.7043 - val_loss: 0.8355\n",
      "Epoch 9/20\n",
      "\u001b[1m41/41\u001b[0m \u001b[32m━━━━━━━━━━━━━━━━━━━━\u001b[0m\u001b[37m\u001b[0m \u001b[1m40s\u001b[0m 972ms/step - accuracy: 0.9234 - loss: 0.2080 - val_accuracy: 0.7275 - val_loss: 0.8655\n",
      "Epoch 10/20\n",
      "\u001b[1m41/41\u001b[0m \u001b[32m━━━━━━━━━━━━━━━━━━━━\u001b[0m\u001b[37m\u001b[0m \u001b[1m40s\u001b[0m 973ms/step - accuracy: 0.9305 - loss: 0.1816 - val_accuracy: 0.7246 - val_loss: 0.8103\n",
      "Epoch 11/20\n",
      "\u001b[1m41/41\u001b[0m \u001b[32m━━━━━━━━━━━━━━━━━━━━\u001b[0m\u001b[37m\u001b[0m \u001b[1m39s\u001b[0m 964ms/step - accuracy: 0.9252 - loss: 0.1832 - val_accuracy: 0.6899 - val_loss: 0.8731\n",
      "Epoch 12/20\n",
      "\u001b[1m41/41\u001b[0m \u001b[32m━━━━━━━━━━━━━━━━━━━━\u001b[0m\u001b[37m\u001b[0m \u001b[1m40s\u001b[0m 972ms/step - accuracy: 0.9428 - loss: 0.2004 - val_accuracy: 0.7246 - val_loss: 0.9780\n",
      "Epoch 13/20\n",
      "\u001b[1m41/41\u001b[0m \u001b[32m━━━━━━━━━━━━━━━━━━━━\u001b[0m\u001b[37m\u001b[0m \u001b[1m40s\u001b[0m 986ms/step - accuracy: 0.9764 - loss: 0.0635 - val_accuracy: 0.7159 - val_loss: 1.3383\n",
      "Epoch 14/20\n",
      "\u001b[1m41/41\u001b[0m \u001b[32m━━━━━━━━━━━━━━━━━━━━\u001b[0m\u001b[37m\u001b[0m \u001b[1m40s\u001b[0m 982ms/step - accuracy: 0.9940 - loss: 0.0380 - val_accuracy: 0.7072 - val_loss: 1.5463\n",
      "Epoch 15/20\n",
      "\u001b[1m41/41\u001b[0m \u001b[32m━━━━━━━━━━━━━━━━━━━━\u001b[0m\u001b[37m\u001b[0m \u001b[1m40s\u001b[0m 984ms/step - accuracy: 0.9925 - loss: 0.0190 - val_accuracy: 0.6812 - val_loss: 1.6103\n",
      "Epoch 16/20\n",
      "\u001b[1m41/41\u001b[0m \u001b[32m━━━━━━━━━━━━━━━━━━━━\u001b[0m\u001b[37m\u001b[0m \u001b[1m41s\u001b[0m 1s/step - accuracy: 0.9875 - loss: 0.0389 - val_accuracy: 0.6957 - val_loss: 1.9325\n",
      "Epoch 17/20\n",
      "\u001b[1m41/41\u001b[0m \u001b[32m━━━━━━━━━━━━━━━━━━━━\u001b[0m\u001b[37m\u001b[0m \u001b[1m40s\u001b[0m 977ms/step - accuracy: 0.9935 - loss: 0.0165 - val_accuracy: 0.7246 - val_loss: 2.0509\n",
      "Epoch 18/20\n",
      "\u001b[1m41/41\u001b[0m \u001b[32m━━━━━━━━━━━━━━━━━━━━\u001b[0m\u001b[37m\u001b[0m \u001b[1m39s\u001b[0m 964ms/step - accuracy: 0.9788 - loss: 0.0692 - val_accuracy: 0.6696 - val_loss: 1.5192\n",
      "Epoch 19/20\n",
      "\u001b[1m41/41\u001b[0m \u001b[32m━━━━━━━━━━━━━━━━━━━━\u001b[0m\u001b[37m\u001b[0m \u001b[1m40s\u001b[0m 973ms/step - accuracy: 0.9339 - loss: 0.2174 - val_accuracy: 0.7507 - val_loss: 1.1938\n",
      "Epoch 20/20\n",
      "\u001b[1m41/41\u001b[0m \u001b[32m━━━━━━━━━━━━━━━━━━━━\u001b[0m\u001b[37m\u001b[0m \u001b[1m39s\u001b[0m 964ms/step - accuracy: 0.9946 - loss: 0.0289 - val_accuracy: 0.6841 - val_loss: 1.5218\n"
     ]
    }
   ],
   "source": [
    "model.compile(optimizer='Adam',loss=\"categorical_crossentropy\",metrics=[\"accuracy\"])\n",
    "hist=model.fit(train_generator,epochs=20,validation_data=test_generator,verbose=1)"
   ]
  },
  {
   "cell_type": "code",
   "execution_count": 7,
   "id": "a934e6c7-4196-4d1f-ae47-c398fbc2a287",
   "metadata": {},
   "outputs": [
    {
     "name": "stdout",
     "output_type": "stream",
     "text": [
      "\u001b[1m18/18\u001b[0m \u001b[32m━━━━━━━━━━━━━━━━━━━━\u001b[0m\u001b[37m\u001b[0m \u001b[1m11s\u001b[0m 617ms/step - accuracy: 0.7052 - loss: 1.3459\n"
     ]
    },
    {
     "name": "stderr",
     "output_type": "stream",
     "text": [
      "WARNING:absl:You are saving your model as an HDF5 file via `model.save()` or `keras.saving.save_model(model)`. This file format is considered legacy. We recommend using instead the native Keras format, e.g. `model.save('my_model.keras')` or `keras.saving.save_model(model, 'my_model.keras')`. \n"
     ]
    }
   ],
   "source": [
    "\n",
    "model.evaluate(test_generator)\n",
    "model.save(\"MobileNet.h5\")"
   ]
  },
  {
   "cell_type": "code",
   "execution_count": 10,
   "id": "e2d23235-30ee-4ce3-89f0-5a3ec64d5889",
   "metadata": {},
   "outputs": [
    {
     "data": {
      "image/png": "[encoded data removed]",
      "text/plain": [
       "<Figure size 640x480 with 2 Axes>"
      ]
     },
     "metadata": {},
     "output_type": "display_data"
    }
   ],
   "source": [
    "fig, ax = plt.subplots(2,1)\n",
    "ax[0].plot(hist.history['accuracy'], color='r', label=\"Training accuracy\")\n",
    "ax[0].plot(hist.history['val_accuracy'], color='g',label=\"Validation accuracy\")\n",
    "legend = ax[0].legend(loc='best', shadow=True)\n",
    "\n",
    "ax[1].plot(hist.history['loss'], color='g', label=\"Training loss\")\n",
    "ax[1].plot(hist.history['val_loss'], color='r', label=\"validation loss\")\n",
    "legend = ax[1].legend(loc='best', shadow=True)"
   ]
  },
  {
   "cell_type": "code",
   "execution_count": 3,
   "id": "0ee3cb0f-c879-437e-ae4e-55f0c28754df",
   "metadata": {},
   "outputs": [
    {
     "name": "stdout",
     "output_type": "stream",
     "text": [
      "Group: model_weights\n",
      "Group: model_weights/activation\n",
      "Group: model_weights/conv2d\n",
      "Group: model_weights/conv2d/sequential\n",
      "Group: model_weights/conv2d/sequential/conv2d\n",
      "Dataset: model_weights/conv2d/sequential/conv2d/bias, Shape: (32,)\n",
      "Dataset: model_weights/conv2d/sequential/conv2d/kernel, Shape: (3, 3, 3, 32)\n",
      "Group: model_weights/conv2d_1\n",
      "Group: model_weights/conv2d_1/sequential\n",
      "Group: model_weights/conv2d_1/sequential/conv2d_1\n",
      "Dataset: model_weights/conv2d_1/sequential/conv2d_1/bias, Shape: (64,)\n",
      "Dataset: model_weights/conv2d_1/sequential/conv2d_1/kernel, Shape: (3, 3, 32, 64)\n",
      "Group: model_weights/conv2d_2\n",
      "Group: model_weights/conv2d_2/sequential\n",
      "Group: model_weights/conv2d_2/sequential/conv2d_2\n",
      "Dataset: model_weights/conv2d_2/sequential/conv2d_2/bias, Shape: (96,)\n",
      "Dataset: model_weights/conv2d_2/sequential/conv2d_2/kernel, Shape: (3, 3, 64, 96)\n",
      "Group: model_weights/conv2d_3\n",
      "Group: model_weights/conv2d_3/sequential\n",
      "Group: model_weights/conv2d_3/sequential/conv2d_3\n",
      "Dataset: model_weights/conv2d_3/sequential/conv2d_3/bias, Shape: (96,)\n",
      "Dataset: model_weights/conv2d_3/sequential/conv2d_3/kernel, Shape: (3, 3, 96, 96)\n",
      "Group: model_weights/dense\n",
      "Group: model_weights/dense/sequential\n",
      "Group: model_weights/dense/sequential/dense\n",
      "Dataset: model_weights/dense/sequential/dense/bias, Shape: (512,)\n",
      "Dataset: model_weights/dense/sequential/dense/kernel, Shape: (18816, 512)\n",
      "Group: model_weights/dense_1\n",
      "Group: model_weights/dense_1/sequential\n",
      "Group: model_weights/dense_1/sequential/dense_1\n",
      "Dataset: model_weights/dense_1/sequential/dense_1/bias, Shape: (3,)\n",
      "Dataset: model_weights/dense_1/sequential/dense_1/kernel, Shape: (512, 3)\n",
      "Group: model_weights/flatten\n",
      "Group: model_weights/max_pooling2d\n",
      "Group: model_weights/max_pooling2d_1\n",
      "Group: model_weights/max_pooling2d_2\n",
      "Group: model_weights/max_pooling2d_3\n",
      "Group: model_weights/top_level_model_weights\n",
      "Group: optimizer_weights\n",
      "Group: optimizer_weights/adam\n",
      "Dataset: optimizer_weights/adam/iteration, Shape: ()\n",
      "Dataset: optimizer_weights/adam/learning_rate, Shape: ()\n",
      "Dataset: optimizer_weights/adam/sequential_conv2d_1_bias_momentum, Shape: (64,)\n",
      "Dataset: optimizer_weights/adam/sequential_conv2d_1_bias_velocity, Shape: (64,)\n",
      "Dataset: optimizer_weights/adam/sequential_conv2d_1_kernel_momentum, Shape: (3, 3, 32, 64)\n",
      "Dataset: optimizer_weights/adam/sequential_conv2d_1_kernel_velocity, Shape: (3, 3, 32, 64)\n",
      "Dataset: optimizer_weights/adam/sequential_conv2d_2_bias_momentum, Shape: (96,)\n",
      "Dataset: optimizer_weights/adam/sequential_conv2d_2_bias_velocity, Shape: (96,)\n",
      "Dataset: optimizer_weights/adam/sequential_conv2d_2_kernel_momentum, Shape: (3, 3, 64, 96)\n",
      "Dataset: optimizer_weights/adam/sequential_conv2d_2_kernel_velocity, Shape: (3, 3, 64, 96)\n",
      "Dataset: optimizer_weights/adam/sequential_conv2d_3_bias_momentum, Shape: (96,)\n",
      "Dataset: optimizer_weights/adam/sequential_conv2d_3_bias_velocity, Shape: (96,)\n",
      "Dataset: optimizer_weights/adam/sequential_conv2d_3_kernel_momentum, Shape: (3, 3, 96, 96)\n",
      "Dataset: optimizer_weights/adam/sequential_conv2d_3_kernel_velocity, Shape: (3, 3, 96, 96)\n",
      "Dataset: optimizer_weights/adam/sequential_conv2d_bias_momentum, Shape: (32,)\n",
      "Dataset: optimizer_weights/adam/sequential_conv2d_bias_velocity, Shape: (32,)\n",
      "Dataset: optimizer_weights/adam/sequential_conv2d_kernel_momentum, Shape: (3, 3, 3, 32)\n",
      "Dataset: optimizer_weights/adam/sequential_conv2d_kernel_velocity, Shape: (3, 3, 3, 32)\n",
      "Dataset: optimizer_weights/adam/sequential_dense_1_bias_momentum, Shape: (3,)\n",
      "Dataset: optimizer_weights/adam/sequential_dense_1_bias_velocity, Shape: (3,)\n",
      "Dataset: optimizer_weights/adam/sequential_dense_1_kernel_momentum, Shape: (512, 3)\n",
      "Dataset: optimizer_weights/adam/sequential_dense_1_kernel_velocity, Shape: (512, 3)\n",
      "Dataset: optimizer_weights/adam/sequential_dense_bias_momentum, Shape: (512,)\n",
      "Dataset: optimizer_weights/adam/sequential_dense_bias_velocity, Shape: (512,)\n",
      "Dataset: optimizer_weights/adam/sequential_dense_kernel_momentum, Shape: (18816, 512)\n",
      "Dataset: optimizer_weights/adam/sequential_dense_kernel_velocity, Shape: (18816, 512)\n"
     ]
    }
   ],
   "source": [
    "import h5py\n",
    "file = h5py.File('MobileNet.h5', 'r')\n",
    "\n",
    "# List all groups and datasets in the file\n",
    "def print_structure(name, obj):\n",
    "    if isinstance(obj, h5py.Group):\n",
    "        print(f\"Group: {name}\")\n",
    "    elif isinstance(obj, h5py.Dataset):\n",
    "        print(f\"Dataset: {name}, Shape: {obj.shape}\")\n",
    "\n",
    "file.visititems(print_structure)\n",
    "\n",
    "# Close the file after inspection\n",
    "file.close()\n"
   ]
  },
  {
   "cell_type": "code",
   "execution_count": null,
   "id": "2cdff9ca-804b-48aa-816e-d4a327712eeb",
   "metadata": {},
   "outputs": [],
   "source": []
  },
  {
   "cell_type": "code",
   "execution_count": null,
   "id": "253002a6-9692-40fa-ba8f-5bb6c3acf6f4",
   "metadata": {},
   "outputs": [],
   "source": []
  },
  {
   "cell_type": "code",
   "execution_count": null,
   "id": "ff678444-d138-4c87-a024-1a9df17bcad4",
   "metadata": {},
   "outputs": [],
   "source": []
  }
 ],
 "metadata": {
  "kernelspec": {
   "display_name": "Python 3 (ipykernel)",
   "language": "python",
   "name": "python3"
  },
  "language_info": {
   "codemirror_mode": {
    "name": "ipython",
    "version": 3
   },
   "file_extension": ".py",
   "mimetype": "text/x-python",
   "name": "python",
   "nbconvert_exporter": "python",
   "pygments_lexer": "ipython3",
   "version": "3.11.7"
  }
 },
 "nbformat": 4,
 "nbformat_minor": 5
}
